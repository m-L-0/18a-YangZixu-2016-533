{
 "cells": [
  {
   "cell_type": "code",
   "execution_count": 2,
   "metadata": {},
   "outputs": [
    {
     "name": "stdout",
     "output_type": "stream",
     "text": [
      "***********************\n"
     ]
    }
   ],
   "source": [
    "'''\n",
    "    姓名：杨子旭\n",
    "    班级：16-5\n",
    "    学号：2016011533\n",
    "'''\n",
    "\n",
    "import tensorflow as tf\n",
    "img=[1,2,3]*tf.ones(shape=[10,28,28,3])\n",
    "#1. 如何利用索引取出第2张图片？（注意：索引均从0开始，第二张则索引为1，下同）\n",
    "fir=img[1:2,:,:,:]\n",
    "#2.如何利用切片取出第2张图片？\n",
    "sec=tf.slice(img,[1,0,0,0],[1,28,28,3])\n",
    "#3. 使用切片与使用索引取出的一张图片有何不同？\n",
    "    #我认为没什么不同\n",
    "\n",
    "#4 如何取出其中的第1、3、5、7张图片？\n",
    "fou=img[0:7:2,:,:,:]\n",
    "#5 如何取出第6-8张（包括6不包括8）图片中中心区域（14*14）的部分？\n",
    "fiv=img[5:7,7:21,7:21,:]\n",
    "\n",
    "#6 如何将图片根据通道拆分成三份单通道图片？\n",
    "six1=sec[:,:,:,0]\n",
    "six2=sec[:,:,:,1]\n",
    "six3=sec[:,:,:,2]\n",
    "\n",
    "#7写出`tf.shape(img)`返回的张量的阶数以及`shape`属性的值。\n",
    "\n",
    "sev=tf.shape(img)\n",
    "#阶数：4， shape属性值：[10 28 28 3]\n",
    "\n",
    "#这里可以看效果\n",
    "with tf.Session() as se3:\n",
    "    #print(se3.run(img))\n",
    "    #print(se3.run(sec))\n",
    "    print('***********************')\n",
    "    #print(se3.run(fir))\n",
    "    #print(se3.run(fou).shape)\n",
    "    #print(se3.run(fiv).shape)\n",
    "    #123456789 10 11 12 13 14 15 16 17 18 19 20 21 22 23 24 25 26 27 28\n",
    "    #print(se3.run(six))\n",
    "    #print(se3.run([six1,six2,six3]))\n",
    "    #print(se3.run(sev))"
   ]
  }
 ],
 "metadata": {
  "kernelspec": {
   "display_name": "Python 3",
   "language": "python",
   "name": "python3"
  },
  "language_info": {
   "codemirror_mode": {
    "name": "ipython",
    "version": 3
   },
   "file_extension": ".py",
   "mimetype": "text/x-python",
   "name": "python",
   "nbconvert_exporter": "python",
   "pygments_lexer": "ipython3",
   "version": "3.5.2"
  }
 },
 "nbformat": 4,
 "nbformat_minor": 2
}
