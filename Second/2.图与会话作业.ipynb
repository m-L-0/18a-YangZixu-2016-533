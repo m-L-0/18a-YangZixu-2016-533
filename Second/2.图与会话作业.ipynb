{
 "cells": [
  {
   "cell_type": "code",
   "execution_count": 33,
   "metadata": {},
   "outputs": [
    {
     "name": "stdout",
     "output_type": "stream",
     "text": [
      "5\n",
      "5\n"
     ]
    }
   ],
   "source": [
    "'''\n",
    "    姓名：杨子旭\n",
    "    班级：16-5\n",
    "    学号:2016011533\n",
    "'''\n",
    "#在一个notebook文件中构建一张图，实现两个数的加法操作，并在两个不同的会话中执行图。\n",
    "import tensorflow as tf\n",
    "import math as mt\n",
    "with tf.Graph().as_default() as g:\n",
    "    a=tf.constant(2)\n",
    "    b=tf.constant(3)\n",
    "    c=tf.add(a,b)\n",
    "with tf.Session(graph=g) as sess1:\n",
    "    print(sess1.run(c))\n",
    "with tf.Session(graph=g) as sess2:\n",
    "    print(sess2.run(c))\n",
    "    "
   ]
  },
  {
   "cell_type": "code",
   "execution_count": 64,
   "metadata": {},
   "outputs": [],
   "source": [
    "#查找资料学习TensorFlow中执行常量基本运算API的基本用法，如`tf.add`、`tf.subtract`、`tf.multiply`、`tf.divide`、`tf.mod`、`tf.pow`、`tf.square`、`tf.sqrt`等的用法，并在notebook中演示其基本用法\n",
    "\n",
    "with tf.Graph().as_default() as g2:\n",
    "    a=tf.subtract(5,3) # 5-3减法运算\n",
    "    b=tf.multiply(5,3) # 5*3乘法运算\n",
    "    c=tf.truediv(6,2)   # 6/2除法运算\n",
    "    d=tf.mod(6,4)      # 6%4取模运算\n",
    "    e=tf.abs(-5)       # |5|取绝对值\n",
    "    f=tf.negative(5)   #  -5 取负操作\n",
    "    g=tf.round(1.4)    #1 四舍五入\n",
    "    h=tf.pow(2,3)      #幂次方\n",
    "    j=tf.square(4)     #平方\n",
    "    k=tf.sqrt(4.0)     #开根号 必须传入浮点数或复数\n",
    "    l=tf.exp(2.0)        #e的次方\n",
    "    m=tf.log(tf.exp(1.0))   #以 e 为底，必须传入浮点数或复数\n",
    "    n=tf.ceil(2.1)     #3 向上取整\n",
    "    o=tf.floor(2.9)    #2 向下取整\n",
    "    p=tf.maximum(2,3)  #返回最大值\n",
    "    q=tf.minimum(2,3)  #返回最小值\n",
    "    r=tf.cos(mt.pi)    #cos函数\n",
    "    s=tf.sin(mt.pi)    #sin函数\n",
    "    t=tf.tan(mt.pi)    #tan函数\n",
    "    "
   ]
  },
  {
   "cell_type": "code",
   "execution_count": 66,
   "metadata": {},
   "outputs": [
    {
     "name": "stdout",
     "output_type": "stream",
     "text": [
      "[2, 15, 3.0, 2, 5, -5, 1.0, 8, 16, 2.0, 7.389056, 1.0, 3.0, 2.0, 3, 2, -1.0, -8.742278e-08, 8.742278e-08]\n"
     ]
    }
   ],
   "source": [
    "with tf.Session(graph=g2) as sess:\n",
    "    print(sess.run([a,b,c,d,e,f,g,h,j,k,l,m,n,o,p,q,r,s,t]))\n",
    "    "
   ]
  }
 ],
 "metadata": {
  "kernelspec": {
   "display_name": "Python 3",
   "language": "python",
   "name": "python3"
  },
  "language_info": {
   "codemirror_mode": {
    "name": "ipython",
    "version": 3
   },
   "file_extension": ".py",
   "mimetype": "text/x-python",
   "name": "python",
   "nbconvert_exporter": "python",
   "pygments_lexer": "ipython3",
   "version": "3.5.2"
  }
 },
 "nbformat": 4,
 "nbformat_minor": 2
}
