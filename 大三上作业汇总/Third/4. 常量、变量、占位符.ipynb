{
 "cells": [
  {
   "cell_type": "code",
   "execution_count": 3,
   "metadata": {},
   "outputs": [
    {
     "name": "stdout",
     "output_type": "stream",
     "text": [
      "24.869999\n"
     ]
    }
   ],
   "source": [
    "'''\n",
    "    姓名:杨子旭\n",
    "    年级:16-5\n",
    "    学号:2016011533\n",
    "'''\n",
    "#1. 构建二元线性回归模型，其中模型中的参数使用`tf.Variable()`构建，模型的样本输入使用`tf.placeholder`代替。写出模型结构。\n",
    "#2. 使用`tf.placeholder`代替上述样本中的标记，写出对于一个样本的代价。\n",
    "import tensorflow as tf\n",
    "with tf.Graph().as_default() as g2:\n",
    "    w1=tf.Variable(2.5)\n",
    "    w2=tf.Variable(3.6)\n",
    "    b=tf.Variable(1.0)\n",
    "    x=tf.placeholder(dtype=tf.float32,shape=[])\n",
    "    y=tf.placeholder(dtype=tf.float32,shape=[])\n",
    "    z=tf.add(tf.add(tf.multiply(w1,x),tf.multiply(w2,y)),b)\n",
    "with tf.Session(graph= g2) as sess2:\n",
    "    #sess2.run(tf.variables_initializer([w1, w2,b]))\n",
    "    #print(w1,w2)\n",
    "    sess2.run(tf.global_variables_initializer())\n",
    "    print(sess2.run(z,feed_dict={x:3.5,y:4.2}))"
   ]
  }
 ],
 "metadata": {
  "kernelspec": {
   "display_name": "Python 3",
   "language": "python",
   "name": "python3"
  },
  "language_info": {
   "codemirror_mode": {
    "name": "ipython",
    "version": 3
   },
   "file_extension": ".py",
   "mimetype": "text/x-python",
   "name": "python",
   "nbconvert_exporter": "python",
   "pygments_lexer": "ipython3",
   "version": "3.5.2"
  }
 },
 "nbformat": 4,
 "nbformat_minor": 2
}
